{
 "cells": [
  {
   "cell_type": "markdown",
   "metadata": {},
   "source": [
    "# **Mushroom Classification – Poisonous or not.** \n",
    "* A **mushroom**, or *toadstool*, is the *fleshy, spore-bearing* fruiting body of a fungus, typically produced above ground on soil or on its food source.\n",
    "* A *“Mushroom”* also describes a variety of other gilled fungi, *with or without* stems."
   ]
  },
  {
   "cell_type": "markdown",
   "metadata": {},
   "source": [
    "## Data Source \n",
    "* For our final project we chose a classification dataset. The data that we found is on the *classification of mushrooms* and what *distinctive features* help us determine whether they are poisonous or not. We gathered this data from **Kaggle**. "
   ]
  },
  {
   "cell_type": "markdown",
   "metadata": {},
   "source": [
    "## Mushroom Features \n",
    "\n",
    "* We began exploring the dataset by performing extra research pertaining to mushroom anatomy, interpreting the variables, and the meaning behind them.\n",
    "\n",
    "### Glossary\n",
    "   1. **Cap (*Pileus*):** \n",
    "        * the *expanded*, upper part of the mushroom; whose surface is the *pileus*\n",
    "   2. **Cup (*Volva*):** \n",
    "    * a *cup-shaped* structure at the base of the mushroom. The basal cup is the remnant of the button (the rounded, undeveloped mushroom before the fruiting body appears). **Not all** mushrooms have a *cup*.\n",
    "   3. **Gills (*Lamellae*):** \n",
    "    * a series of *radially arranged* (from the center) *flat surfaces* located on the *underside* of the cap. Spores are *made* in the gills.\n",
    "   4. **Mycelial threads:** \n",
    "    * *root-like* filaments that *anchor* the mushroom in the soli.\n",
    "   5. **Ring (*Annulus*):**\n",
    "    * a *skirt-like ring* of tissue circling the stem of *mature* mushrooms. The ring is the remnant of the veil (the veil is the tissue that connects the stem and the cap before the gills are exposed and the fruiting body develops). **Not all** mushrooms have a *ring*.\n",
    "   6. **Scale:**\n",
    "    * rough *patches of tissue* on the surface of the cap (scales are remnants of the veil).\n",
    "   7. **Stalk (or *Stem*, or *Stape*):** \n",
    "    * the *main support* of the mushroom; it is topped by the cap. **Not all** mushrooms have a *stalk* (*stem*).\n"
   ]
  },
  {
   "cell_type": "markdown",
   "metadata": {},
   "source": [
    "### Data Attribute Information  \n",
    "* **classes:** edible=e, poisonous=p\n",
    "\n",
    "* **cap-shape:** bell=b, conical=c, convex=x, flat=f, knobbed=k, sunken=s\n",
    "\n",
    "* **cap-surface:** fibrous=f, grooves=g, scaly=y, smooth=s\n",
    "\n",
    "* **cap-color:** brown=n, buff=b, cinnamon=c, gray=g, green=r, pink=p, purple=u, red=e, white=w, yellow=y\n",
    "\n",
    "* **bruises:** bruises=t, no=f\n",
    "\n",
    "* **odor:** almond=a, anise=l, creosote=c, fishy=y, foul=f, musty=m, none=n, pungent=p, spicy=s\n",
    "\n",
    "* **gill-attachment:** attached=a, descending=d, free=f, notched=n\n",
    "\n",
    "* **gill-spacing:** close=c, crowded=w, distant=d\n",
    "\n",
    "* **gill-size:** broad=b, narrow=n\n",
    "\n",
    "* **gill-color:** black=k, brown=n, buff=b, chocolate=h, gray=g, green=r, orange=o, pink=p, purple=u, red=e, white=w, yellow=y\n",
    "\n",
    "* **stalk-shape:** enlarging=e, tapering=t\n",
    "\n",
    "* **stalk-root:** bulbous=b, club=c, cup=u, equal=e, rhizomorphs=z, rooted=r, missing=?\n",
    "\n",
    "* **stalk-surface-above-ring:** fibrous=f, scaly=y, silky=k, smooth=s\n",
    "\n",
    "* **stalk-surface-below-ring:** fibrous=f, scaly=y, silky=k, smooth=s\n",
    "\n",
    "* **stalk-color-above-ring:** brown=n,buff=b,cinnamon=c,gray=g,orange=o,pink=p,red=e,white=w,yellow=y\n",
    "\n",
    "* **stalk-color-below-ring:** brown=n, buff=b, cinnamon=c, gray=g, orange=o, pink=p, red=e, white=w, yellow=y\n",
    "\n",
    "* **veil-type:** partial=p, universal=u\n",
    "\n",
    "* **veil-color:** brown=n, orange=o, white=w, yellow=y\n",
    "\n",
    "* **ring-number:** none=n, one=o, two=t\n",
    "\n",
    "* **ring-type:** cobwebby=c, evanescent=e, flaring=f, large=l, none=n, pendant=p, sheathing=s, zone=z\n",
    "\n",
    "* **spore-print-color:** black=k, brown=n, buff=b, chocolate=h, green=r, orange=o, purple=u, white=w, yellow=y\n",
    "\n",
    "* **population:** abundant=a, clustered=c, numerous=n, scattered=s, several=v, solitary=y\n",
    "\n",
    "* **habitat:** grasses=g, leaves=l, meadows=m, paths=p, urban=u, waste=w, woods=d\n"
   ]
  },
  {
   "cell_type": "markdown",
   "metadata": {},
   "source": [
    "![alt text](https://github.com/fairfield-university-ba505-fall2018/final-project-filip-s-angels/raw/master/Structure%2Bof%2Ba%2Bcommon%2Bmushroom.jpg \"Mushroom_Structure\")"
   ]
  },
  {
   "cell_type": "markdown",
   "metadata": {},
   "source": [
    "![alt text](https://github.com/fairfield-university-ba505-fall2018/final-project-filip-s-angels/raw/master/mushroom_cap_morphology2.png \"Mushroom_Cap\")"
   ]
  },
  {
   "cell_type": "code",
   "execution_count": null,
   "metadata": {},
   "outputs": [],
   "source": []
  }
 ],
 "metadata": {
  "kernelspec": {
   "display_name": "Python 3",
   "language": "python",
   "name": "python3"
  },
  "language_info": {
   "codemirror_mode": {
    "name": "ipython",
    "version": 3
   },
   "file_extension": ".py",
   "mimetype": "text/x-python",
   "name": "python",
   "nbconvert_exporter": "python",
   "pygments_lexer": "ipython3",
   "version": "3.6.5"
  }
 },
 "nbformat": 4,
 "nbformat_minor": 2
}
