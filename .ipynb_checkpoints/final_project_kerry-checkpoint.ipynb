{
 "cells": [
  {
   "cell_type": "markdown",
   "metadata": {},
   "source": [
    "# Research Questions"
   ]
  },
  {
   "cell_type": "markdown",
   "metadata": {},
   "source": [
    "## Poisonous Mushrooms\n",
    "1. Which attributes are most associated with **poisonous** mushrooms?\n",
    "2. Are poisonous mushrooms found most often in abundance, clusters, etc?\n",
    "3. Where are these mushrooms most often found?\n",
    "4. Comparisons of posisonous mushrooms vs. edible mushrooms\n",
    "\n",
    "## Edible Mushrooms\n",
    "1. Which attributes are most associated with **edible** mushroooms?\n",
    "2. Are edible mushrooms found most often in abundance, clusters, etc?"
   ]
  },
  {
   "cell_type": "code",
   "execution_count": null,
   "metadata": {},
   "outputs": [],
   "source": []
  }
 ],
 "metadata": {
  "kernelspec": {
   "display_name": "Python 3",
   "language": "python",
   "name": "python3"
  },
  "language_info": {
   "codemirror_mode": {
    "name": "ipython",
    "version": 3
   },
   "file_extension": ".py",
   "mimetype": "text/x-python",
   "name": "python",
   "nbconvert_exporter": "python",
   "pygments_lexer": "ipython3",
   "version": "3.6.5"
  }
 },
 "nbformat": 4,
 "nbformat_minor": 2
}
