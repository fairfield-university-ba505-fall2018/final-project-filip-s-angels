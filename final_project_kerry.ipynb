{
 "cells": [
  {
   "cell_type": "markdown",
   "metadata": {},
   "source": [
    "# Research Questions"
   ]
  },
  {
   "cell_type": "markdown",
   "metadata": {},
   "source": [
    "1. Which attributes are most associated with **poisonous** mushrooms?\n",
    "2. Which attributes are most associated with **edible** mushroooms?\n",
    "3. Are poisonous mushrooms found most often in abundance, clusters, etc?\n",
    "4. What cap color is most associated with poisonous mushrooms?\n",
    "5. Other comparisons of posisonous mushrooms vs. edible mushrooms\n",
    "6. Where are these mushrooms most often found? (Question that may require some advanced techniques)"
   ]
  },
  {
   "cell_type": "markdown",
   "metadata": {},
   "source": [
    "- correlation matrices\n",
    "- scatter plots\n",
    "- histograms/pie charts\n",
    "- heat maps using sseaborn \n",
    "- something to do with location?"
   ]
  }
 ],
 "metadata": {
  "kernelspec": {
   "display_name": "Python 3",
   "language": "python",
   "name": "python3"
  },
  "language_info": {
   "codemirror_mode": {
    "name": "ipython",
    "version": 3
   },
   "file_extension": ".py",
   "mimetype": "text/x-python",
   "name": "python",
   "nbconvert_exporter": "python",
   "pygments_lexer": "ipython3",
   "version": "3.6.5"
  }
 },
 "nbformat": 4,
 "nbformat_minor": 2
}
